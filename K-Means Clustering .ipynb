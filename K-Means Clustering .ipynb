{
 "cells": [
  {
   "cell_type": "markdown",
   "id": "30d56a2e",
   "metadata": {},
   "source": [
    "This code uses K-means to cluster handwritten digits into 10 clusters, \n",
    "employing random initialization to find optimal centroids. \n",
    "After fitting the model, you can explore the cluster labels assigned \n",
    "to each data point and analyze the structure of the resulting groups."
   ]
  },
  {
   "cell_type": "code",
   "execution_count": 12,
   "id": "175cdeaa",
   "metadata": {},
   "outputs": [],
   "source": [
    "from sklearn.cluster import Kmeans\n",
    "from sklearn.preprocessing import scale\n",
    "from sklearn.datasets import load_digits"
   ]
  },
  {
   "cell_type": "code",
   "execution_count": 13,
   "id": "7187d758",
   "metadata": {},
   "outputs": [],
   "source": [
    "digits = load_digits()\n",
    "data=scale(digits.data)"
   ]
  },
  {
   "cell_type": "code",
   "execution_count": 14,
   "id": "039c0491",
   "metadata": {},
   "outputs": [],
   "source": [
    "model = (Kmeans(n_clusters=10, init='random', n_init=10))\n",
    "model.fit(data)"
   ]
  },
  {
   "cell_type": "code",
   "execution_count": 15,
   "id": "04893046",
   "metadata": {},
   "outputs": [],
   "source": [
    "model.predcit([...])"
   ]
  },
  {
   "cell_type": "code",
   "execution_count": null,
   "id": "f72622a0",
   "metadata": {},
   "outputs": [],
   "source": []
  },
  {
   "cell_type": "code",
   "execution_count": null,
   "id": "b9e9d23d",
   "metadata": {},
   "outputs": [],
   "source": []
  }
 ],
 "metadata": {
  "kernelspec": {
   "display_name": "Python 3 (ipykernel)",
   "language": "python",
   "name": "python3"
  },
  "language_info": {
   "codemirror_mode": {
    "name": "ipython",
    "version": 3
   },
   "file_extension": ".py",
   "mimetype": "text/x-python",
   "name": "python",
   "nbconvert_exporter": "python",
   "pygments_lexer": "ipython3",
   "version": "3.11.5"
  }
 },
 "nbformat": 4,
 "nbformat_minor": 5
}
