{
 "cells": [
  {
   "cell_type": "markdown",
   "id": "564903b6",
   "metadata": {},
   "source": [
    "This code sets up a neural network model and then trains it using the MNIST dataset. The goal is to create a model capable of recognizing handwritten digits based on the provided training data."
   ]
  },
  {
   "cell_type": "code",
   "execution_count": 2,
   "id": "e5b2f638",
   "metadata": {},
   "outputs": [
    {
     "name": "stdout",
     "output_type": "stream",
     "text": [
      "Collecting opencv-pythonNote: you may need to restart the kernel to use updated packages.\n",
      "\n",
      "  Obtaining dependency information for opencv-python from https://files.pythonhosted.org/packages/38/d2/3e8c13ffc37ca5ebc6f382b242b44acb43eb489042e1728407ac3904e72f/opencv_python-4.8.1.78-cp37-abi3-win_amd64.whl.metadata\n",
      "  Downloading opencv_python-4.8.1.78-cp37-abi3-win_amd64.whl.metadata (20 kB)\n",
      "Requirement already satisfied: numpy>=1.21.2 in c:\\users\\jchpa\\anaconda3\\lib\\site-packages (from opencv-python) (1.24.3)\n",
      "Downloading opencv_python-4.8.1.78-cp37-abi3-win_amd64.whl (38.1 MB)\n",
      "   ---------------------------------------- 0.0/38.1 MB ? eta -:--:--\n",
      "   ---------------------------------------- 0.0/38.1 MB 1.3 MB/s eta 0:00:30\n",
      "   ---------------------------------------- 0.2/38.1 MB 2.6 MB/s eta 0:00:15\n",
      "   ---------------------------------------- 0.4/38.1 MB 3.3 MB/s eta 0:00:12\n",
      "    --------------------------------------- 0.6/38.1 MB 3.5 MB/s eta 0:00:11\n",
      "    --------------------------------------- 0.9/38.1 MB 4.6 MB/s eta 0:00:09\n",
      "   - -------------------------------------- 1.3/38.1 MB 5.2 MB/s eta 0:00:08\n",
      "   - -------------------------------------- 1.6/38.1 MB 5.4 MB/s eta 0:00:07\n",
      "   -- ------------------------------------- 1.9/38.1 MB 5.6 MB/s eta 0:00:07\n",
      "   -- ------------------------------------- 2.3/38.1 MB 5.9 MB/s eta 0:00:07\n",
      "   -- ------------------------------------- 2.7/38.1 MB 6.1 MB/s eta 0:00:06\n",
      "   --- ------------------------------------ 3.0/38.1 MB 6.2 MB/s eta 0:00:06\n",
      "   --- ------------------------------------ 3.4/38.1 MB 6.4 MB/s eta 0:00:06\n",
      "   --- ------------------------------------ 3.7/38.1 MB 6.4 MB/s eta 0:00:06\n",
      "   ---- ----------------------------------- 4.1/38.1 MB 6.5 MB/s eta 0:00:06\n",
      "   ---- ----------------------------------- 4.4/38.1 MB 6.4 MB/s eta 0:00:06\n",
      "   ---- ----------------------------------- 4.7/38.1 MB 6.4 MB/s eta 0:00:06\n",
      "   ----- ---------------------------------- 5.1/38.1 MB 6.7 MB/s eta 0:00:05\n",
      "   ----- ---------------------------------- 5.5/38.1 MB 6.6 MB/s eta 0:00:05\n",
      "   ------ --------------------------------- 5.8/38.1 MB 6.6 MB/s eta 0:00:05\n",
      "   ------ --------------------------------- 6.2/38.1 MB 6.7 MB/s eta 0:00:05\n",
      "   ------ --------------------------------- 6.5/38.1 MB 6.7 MB/s eta 0:00:05\n",
      "   ------- -------------------------------- 6.9/38.1 MB 6.7 MB/s eta 0:00:05\n",
      "   ------- -------------------------------- 7.2/38.1 MB 6.8 MB/s eta 0:00:05\n",
      "   ------- -------------------------------- 7.5/38.1 MB 6.8 MB/s eta 0:00:05\n",
      "   -------- ------------------------------- 7.9/38.1 MB 6.8 MB/s eta 0:00:05\n",
      "   -------- ------------------------------- 8.3/38.1 MB 6.9 MB/s eta 0:00:05\n",
      "   --------- ------------------------------ 8.6/38.1 MB 6.9 MB/s eta 0:00:05\n",
      "   --------- ------------------------------ 9.0/38.1 MB 6.9 MB/s eta 0:00:05\n",
      "   --------- ------------------------------ 9.3/38.1 MB 6.9 MB/s eta 0:00:05\n",
      "   ---------- ----------------------------- 9.6/38.1 MB 6.9 MB/s eta 0:00:05\n",
      "   ---------- ----------------------------- 10.0/38.1 MB 6.9 MB/s eta 0:00:05\n",
      "   ---------- ----------------------------- 10.2/38.1 MB 7.0 MB/s eta 0:00:04\n",
      "   ---------- ----------------------------- 10.2/38.1 MB 7.0 MB/s eta 0:00:04\n",
      "   ---------- ----------------------------- 10.2/38.1 MB 7.0 MB/s eta 0:00:04\n",
      "   ----------- ---------------------------- 10.8/38.1 MB 7.0 MB/s eta 0:00:04\n",
      "   ----------- ---------------------------- 10.8/38.1 MB 7.0 MB/s eta 0:00:04\n",
      "   ----------- ---------------------------- 10.8/38.1 MB 7.0 MB/s eta 0:00:04\n",
      "   ----------- ---------------------------- 10.8/38.1 MB 7.0 MB/s eta 0:00:04\n",
      "   ----------- ---------------------------- 10.8/38.1 MB 7.0 MB/s eta 0:00:04\n",
      "   ----------- ---------------------------- 10.8/38.1 MB 7.0 MB/s eta 0:00:04\n",
      "   ----------- ---------------------------- 10.8/38.1 MB 7.0 MB/s eta 0:00:04\n",
      "   ----------- ---------------------------- 10.8/38.1 MB 7.0 MB/s eta 0:00:04\n",
      "   ----------- ---------------------------- 10.8/38.1 MB 7.0 MB/s eta 0:00:04\n",
      "   ----------- ---------------------------- 10.8/38.1 MB 7.0 MB/s eta 0:00:04\n",
      "   ----------- ---------------------------- 10.8/38.1 MB 7.0 MB/s eta 0:00:04\n",
      "   ----------- ---------------------------- 10.8/38.1 MB 7.0 MB/s eta 0:00:04\n",
      "   ----------- ---------------------------- 10.8/38.1 MB 7.0 MB/s eta 0:00:04\n",
      "   ----------- ---------------------------- 10.8/38.1 MB 7.0 MB/s eta 0:00:04\n",
      "   ----------- ---------------------------- 10.8/38.1 MB 7.0 MB/s eta 0:00:04\n",
      "   ----------- ---------------------------- 10.8/38.1 MB 7.0 MB/s eta 0:00:04\n",
      "   ----------- ---------------------------- 10.8/38.1 MB 7.0 MB/s eta 0:00:04\n",
      "   ----------- ---------------------------- 10.8/38.1 MB 7.0 MB/s eta 0:00:04\n",
      "   ----------- ---------------------------- 10.8/38.1 MB 7.0 MB/s eta 0:00:04\n",
      "   ----------- ---------------------------- 10.8/38.1 MB 7.0 MB/s eta 0:00:04\n",
      "   ----------- ---------------------------- 10.8/38.1 MB 7.0 MB/s eta 0:00:04\n",
      "   ----------- ---------------------------- 10.8/38.1 MB 7.0 MB/s eta 0:00:04\n",
      "   ----------- ---------------------------- 10.8/38.1 MB 7.0 MB/s eta 0:00:04\n",
      "   ----------- ---------------------------- 10.8/38.1 MB 7.0 MB/s eta 0:00:04\n",
      "   ----------- ---------------------------- 10.8/38.1 MB 7.0 MB/s eta 0:00:04\n",
      "   ----------- ---------------------------- 10.8/38.1 MB 7.0 MB/s eta 0:00:04\n",
      "   ----------- ---------------------------- 10.8/38.1 MB 7.0 MB/s eta 0:00:04\n",
      "   ----------- ---------------------------- 10.8/38.1 MB 7.0 MB/s eta 0:00:04\n",
      "   ----------- ---------------------------- 10.8/38.1 MB 7.0 MB/s eta 0:00:04\n",
      "   ----------- ---------------------------- 10.8/38.1 MB 7.0 MB/s eta 0:00:04\n",
      "   ----------- ---------------------------- 10.8/38.1 MB 7.0 MB/s eta 0:00:04\n",
      "   ----------- ---------------------------- 10.8/38.1 MB 7.0 MB/s eta 0:00:04\n",
      "   ----------- ---------------------------- 10.8/38.1 MB 7.0 MB/s eta 0:00:04\n",
      "   ----------- ---------------------------- 10.8/38.1 MB 7.0 MB/s eta 0:00:04\n",
      "   ----------- ---------------------------- 10.8/38.1 MB 7.0 MB/s eta 0:00:04\n",
      "   ----------- ---------------------------- 10.8/38.1 MB 7.0 MB/s eta 0:00:04\n",
      "   ----------- ---------------------------- 10.8/38.1 MB 7.0 MB/s eta 0:00:04\n",
      "   ----------- ---------------------------- 10.8/38.1 MB 7.0 MB/s eta 0:00:04\n",
      "   ----------- ---------------------------- 10.8/38.1 MB 7.0 MB/s eta 0:00:04\n",
      "   ----------- ---------------------------- 10.8/38.1 MB 7.0 MB/s eta 0:00:04\n",
      "   ----------- ---------------------------- 10.8/38.1 MB 7.0 MB/s eta 0:00:04\n",
      "   ----------- ---------------------------- 10.8/38.1 MB 7.0 MB/s eta 0:00:04\n",
      "   ----------- ---------------------------- 10.8/38.1 MB 7.0 MB/s eta 0:00:04\n",
      "   ----------- ---------------------------- 10.8/38.1 MB 7.0 MB/s eta 0:00:04\n",
      "   ----------- ---------------------------- 10.8/38.1 MB 7.0 MB/s eta 0:00:04\n",
      "   ----------- ---------------------------- 10.8/38.1 MB 7.0 MB/s eta 0:00:04\n",
      "   ----------- ---------------------------- 10.8/38.1 MB 7.0 MB/s eta 0:00:04\n",
      "   ----------- ---------------------------- 10.8/38.1 MB 7.0 MB/s eta 0:00:04\n",
      "   ----------- ---------------------------- 10.8/38.1 MB 7.0 MB/s eta 0:00:04\n",
      "   ----------- ---------------------------- 10.8/38.1 MB 7.0 MB/s eta 0:00:04\n",
      "   ----------- ---------------------------- 10.8/38.1 MB 7.0 MB/s eta 0:00:04\n",
      "   ----------- ---------------------------- 10.8/38.1 MB 7.0 MB/s eta 0:00:04\n",
      "   ----------- ---------------------------- 10.8/38.1 MB 7.0 MB/s eta 0:00:04\n",
      "   ----------- ---------------------------- 10.8/38.1 MB 7.0 MB/s eta 0:00:04\n",
      "   ----------- ---------------------------- 10.8/38.1 MB 7.0 MB/s eta 0:00:04\n",
      "   ----------- ---------------------------- 10.8/38.1 MB 7.0 MB/s eta 0:00:04\n",
      "   ----------- ---------------------------- 10.8/38.1 MB 7.0 MB/s eta 0:00:04\n",
      "   ----------- ---------------------------- 10.8/38.1 MB 7.0 MB/s eta 0:00:04\n",
      "   ----------- ---------------------------- 10.8/38.1 MB 7.0 MB/s eta 0:00:04\n",
      "   ----------- ---------------------------- 10.8/38.1 MB 7.0 MB/s eta 0:00:04\n",
      "   ----------- ---------------------------- 10.8/38.1 MB 7.0 MB/s eta 0:00:04\n",
      "   ----------- ---------------------------- 10.8/38.1 MB 7.0 MB/s eta 0:00:04\n",
      "   ----------- ---------------------------- 10.8/38.1 MB 7.0 MB/s eta 0:00:04\n",
      "   ----------- ---------------------------- 10.8/38.1 MB 2.3 MB/s eta 0:00:12\n",
      "   ----------- ---------------------------- 10.8/38.1 MB 2.3 MB/s eta 0:00:12\n",
      "   ----------- ---------------------------- 11.1/38.1 MB 2.3 MB/s eta 0:00:12\n",
      "   ------------ --------------------------- 11.5/38.1 MB 2.3 MB/s eta 0:00:12\n",
      "   ------------ --------------------------- 11.8/38.1 MB 2.3 MB/s eta 0:00:12\n",
      "   ------------ --------------------------- 12.2/38.1 MB 2.3 MB/s eta 0:00:12\n",
      "   ------------- -------------------------- 12.5/38.1 MB 2.3 MB/s eta 0:00:12\n",
      "   ------------- -------------------------- 12.9/38.1 MB 2.3 MB/s eta 0:00:11\n",
      "   ------------- -------------------------- 13.2/38.1 MB 2.3 MB/s eta 0:00:11\n",
      "   -------------- ------------------------- 13.6/38.1 MB 2.3 MB/s eta 0:00:11\n",
      "   -------------- ------------------------- 13.9/38.1 MB 2.3 MB/s eta 0:00:11\n",
      "   -------------- ------------------------- 14.3/38.1 MB 2.3 MB/s eta 0:00:11\n",
      "   --------------- ------------------------ 14.6/38.1 MB 2.3 MB/s eta 0:00:11\n",
      "   --------------- ------------------------ 15.0/38.1 MB 2.3 MB/s eta 0:00:11\n",
      "   ---------------- ----------------------- 15.3/38.1 MB 2.3 MB/s eta 0:00:10\n",
      "   ---------------- ----------------------- 15.6/38.1 MB 2.3 MB/s eta 0:00:10\n",
      "   ---------------- ----------------------- 16.0/38.1 MB 2.3 MB/s eta 0:00:10\n",
      "   ----------------- ---------------------- 16.3/38.1 MB 2.3 MB/s eta 0:00:10\n",
      "   ----------------- ---------------------- 16.7/38.1 MB 2.3 MB/s eta 0:00:10\n",
      "   ----------------- ---------------------- 17.0/38.1 MB 2.3 MB/s eta 0:00:10\n",
      "   ------------------ --------------------- 17.4/38.1 MB 2.3 MB/s eta 0:00:10\n",
      "   ------------------ --------------------- 17.7/38.1 MB 2.3 MB/s eta 0:00:09\n",
      "   ------------------ --------------------- 18.1/38.1 MB 2.3 MB/s eta 0:00:09\n",
      "   ------------------- -------------------- 18.4/38.1 MB 2.3 MB/s eta 0:00:09\n",
      "   ------------------- -------------------- 18.7/38.1 MB 2.3 MB/s eta 0:00:09\n",
      "   -------------------- ------------------- 19.1/38.1 MB 2.3 MB/s eta 0:00:09\n",
      "   -------------------- ------------------- 19.4/38.1 MB 2.3 MB/s eta 0:00:09\n",
      "   -------------------- ------------------- 19.8/38.1 MB 2.3 MB/s eta 0:00:08\n",
      "   --------------------- ------------------ 20.2/38.1 MB 2.3 MB/s eta 0:00:08\n",
      "   --------------------- ------------------ 20.5/38.1 MB 2.4 MB/s eta 0:00:08\n",
      "   --------------------- ------------------ 20.8/38.1 MB 2.3 MB/s eta 0:00:08\n",
      "   ---------------------- ----------------- 21.2/38.1 MB 7.4 MB/s eta 0:00:03\n",
      "   ---------------------- ----------------- 21.5/38.1 MB 7.4 MB/s eta 0:00:03\n",
      "   ---------------------- ----------------- 21.9/38.1 MB 7.4 MB/s eta 0:00:03\n",
      "   ----------------------- ---------------- 22.2/38.1 MB 7.4 MB/s eta 0:00:03\n",
      "   ----------------------- ---------------- 22.6/38.1 MB 7.4 MB/s eta 0:00:03\n",
      "   ------------------------ --------------- 22.9/38.1 MB 7.4 MB/s eta 0:00:03\n",
      "   ------------------------ --------------- 23.3/38.1 MB 7.4 MB/s eta 0:00:03\n",
      "   ------------------------ --------------- 23.6/38.1 MB 7.4 MB/s eta 0:00:02\n",
      "   ------------------------- -------------- 24.0/38.1 MB 7.4 MB/s eta 0:00:02\n",
      "   ------------------------- -------------- 24.3/38.1 MB 7.4 MB/s eta 0:00:02\n",
      "   ------------------------- -------------- 24.7/38.1 MB 7.4 MB/s eta 0:00:02\n",
      "   -------------------------- ------------- 25.0/38.1 MB 7.4 MB/s eta 0:00:02\n",
      "   -------------------------- ------------- 25.3/38.1 MB 7.4 MB/s eta 0:00:02\n",
      "   -------------------------- ------------- 25.7/38.1 MB 7.4 MB/s eta 0:00:02\n",
      "   --------------------------- ------------ 26.1/38.1 MB 7.4 MB/s eta 0:00:02\n",
      "   --------------------------- ------------ 26.4/38.1 MB 7.4 MB/s eta 0:00:02\n",
      "   ---------------------------- ----------- 26.7/38.1 MB 7.4 MB/s eta 0:00:02\n",
      "   ---------------------------- ----------- 27.1/38.1 MB 7.4 MB/s eta 0:00:02\n",
      "   ---------------------------- ----------- 27.4/38.1 MB 7.4 MB/s eta 0:00:02\n",
      "   ----------------------------- ---------- 27.8/38.1 MB 7.4 MB/s eta 0:00:02\n",
      "   ----------------------------- ---------- 28.1/38.1 MB 7.4 MB/s eta 0:00:02\n",
      "   ----------------------------- ---------- 28.5/38.1 MB 7.4 MB/s eta 0:00:02\n",
      "   ------------------------------ --------- 28.8/38.1 MB 7.4 MB/s eta 0:00:02\n",
      "   ------------------------------ --------- 29.1/38.1 MB 7.4 MB/s eta 0:00:02\n",
      "   ------------------------------ --------- 29.5/38.1 MB 7.4 MB/s eta 0:00:02\n",
      "   ------------------------------- -------- 29.8/38.1 MB 7.4 MB/s eta 0:00:02\n",
      "   ------------------------------- -------- 30.2/38.1 MB 7.4 MB/s eta 0:00:02\n",
      "   -------------------------------- ------- 30.5/38.1 MB 7.4 MB/s eta 0:00:02\n",
      "   -------------------------------- ------- 30.9/38.1 MB 7.4 MB/s eta 0:00:01\n",
      "   -------------------------------- ------- 31.2/38.1 MB 7.4 MB/s eta 0:00:01\n",
      "   --------------------------------- ------ 31.6/38.1 MB 7.4 MB/s eta 0:00:01\n",
      "   --------------------------------- ------ 31.9/38.1 MB 7.4 MB/s eta 0:00:01\n",
      "   --------------------------------- ------ 32.2/38.1 MB 7.4 MB/s eta 0:00:01\n",
      "   ---------------------------------- ----- 32.5/38.1 MB 7.4 MB/s eta 0:00:01\n",
      "   ---------------------------------- ----- 32.7/38.1 MB 7.2 MB/s eta 0:00:01\n",
      "   ---------------------------------- ----- 32.8/38.1 MB 7.0 MB/s eta 0:00:01\n",
      "   ---------------------------------- ----- 33.1/38.1 MB 7.0 MB/s eta 0:00:01\n",
      "   ----------------------------------- ---- 33.4/38.1 MB 7.0 MB/s eta 0:00:01\n",
      "   ----------------------------------- ---- 33.8/38.1 MB 7.0 MB/s eta 0:00:01\n",
      "   ----------------------------------- ---- 34.1/38.1 MB 7.0 MB/s eta 0:00:01\n",
      "   ------------------------------------ --- 34.3/38.1 MB 6.9 MB/s eta 0:00:01\n",
      "   ------------------------------------ --- 34.4/38.1 MB 6.7 MB/s eta 0:00:01\n",
      "   ------------------------------------ --- 34.8/38.1 MB 6.7 MB/s eta 0:00:01\n",
      "   ------------------------------------ --- 35.2/38.1 MB 6.8 MB/s eta 0:00:01\n",
      "   ------------------------------------- -- 35.5/38.1 MB 6.7 MB/s eta 0:00:01\n",
      "   ------------------------------------- -- 35.9/38.1 MB 6.8 MB/s eta 0:00:01\n",
      "   -------------------------------------- - 36.2/38.1 MB 6.8 MB/s eta 0:00:01\n",
      "   -------------------------------------- - 36.4/38.1 MB 6.7 MB/s eta 0:00:01\n",
      "   -------------------------------------- - 36.5/38.1 MB 6.5 MB/s eta 0:00:01\n",
      "   -------------------------------------- - 36.7/38.1 MB 6.5 MB/s eta 0:00:01\n",
      "   -------------------------------------- - 37.0/38.1 MB 6.5 MB/s eta 0:00:01\n",
      "   ---------------------------------------  37.3/38.1 MB 6.5 MB/s eta 0:00:01\n",
      "   ---------------------------------------  37.7/38.1 MB 6.4 MB/s eta 0:00:01\n",
      "   ---------------------------------------  38.0/38.1 MB 6.4 MB/s eta 0:00:01\n",
      "   ---------------------------------------  38.1/38.1 MB 6.4 MB/s eta 0:00:01\n",
      "   ---------------------------------------  38.1/38.1 MB 6.4 MB/s eta 0:00:01\n",
      "   ---------------------------------------  38.1/38.1 MB 6.4 MB/s eta 0:00:01\n",
      "   ---------------------------------------- 38.1/38.1 MB 5.7 MB/s eta 0:00:00\n",
      "Installing collected packages: opencv-python\n",
      "Successfully installed opencv-python-4.8.1.78\n"
     ]
    }
   ],
   "source": [
    "pip install opencv-python"
   ]
  },
  {
   "cell_type": "code",
   "execution_count": 4,
   "id": "82745043",
   "metadata": {},
   "outputs": [
    {
     "name": "stdout",
     "output_type": "stream",
     "text": [
      "Requirement already satisfied: tensorflow in c:\\users\\jchpa\\anaconda3\\lib\\site-packages (2.15.0)\n",
      "Requirement already satisfied: tensorflow-intel==2.15.0 in c:\\users\\jchpa\\anaconda3\\lib\\site-packages (from tensorflow) (2.15.0)\n",
      "Requirement already satisfied: absl-py>=1.0.0 in c:\\users\\jchpa\\anaconda3\\lib\\site-packages (from tensorflow-intel==2.15.0->tensorflow) (2.0.0)\n",
      "Requirement already satisfied: astunparse>=1.6.0 in c:\\users\\jchpa\\anaconda3\\lib\\site-packages (from tensorflow-intel==2.15.0->tensorflow) (1.6.3)\n",
      "Requirement already satisfied: flatbuffers>=23.5.26 in c:\\users\\jchpa\\anaconda3\\lib\\site-packages (from tensorflow-intel==2.15.0->tensorflow) (23.5.26)\n",
      "Requirement already satisfied: gast!=0.5.0,!=0.5.1,!=0.5.2,>=0.2.1 in c:\\users\\jchpa\\anaconda3\\lib\\site-packages (from tensorflow-intel==2.15.0->tensorflow) (0.5.4)\n",
      "Requirement already satisfied: google-pasta>=0.1.1 in c:\\users\\jchpa\\anaconda3\\lib\\site-packages (from tensorflow-intel==2.15.0->tensorflow) (0.2.0)\n",
      "Requirement already satisfied: h5py>=2.9.0 in c:\\users\\jchpa\\anaconda3\\lib\\site-packages (from tensorflow-intel==2.15.0->tensorflow) (3.9.0)\n",
      "Requirement already satisfied: libclang>=13.0.0 in c:\\users\\jchpa\\anaconda3\\lib\\site-packages (from tensorflow-intel==2.15.0->tensorflow) (16.0.6)\n",
      "Requirement already satisfied: ml-dtypes~=0.2.0 in c:\\users\\jchpa\\anaconda3\\lib\\site-packages (from tensorflow-intel==2.15.0->tensorflow) (0.2.0)\n",
      "Requirement already satisfied: numpy<2.0.0,>=1.23.5 in c:\\users\\jchpa\\anaconda3\\lib\\site-packages (from tensorflow-intel==2.15.0->tensorflow) (1.24.3)\n",
      "Requirement already satisfied: opt-einsum>=2.3.2 in c:\\users\\jchpa\\anaconda3\\lib\\site-packages (from tensorflow-intel==2.15.0->tensorflow) (3.3.0)\n",
      "Requirement already satisfied: packaging in c:\\users\\jchpa\\anaconda3\\lib\\site-packages (from tensorflow-intel==2.15.0->tensorflow) (23.1)\n",
      "Requirement already satisfied: protobuf!=4.21.0,!=4.21.1,!=4.21.2,!=4.21.3,!=4.21.4,!=4.21.5,<5.0.0dev,>=3.20.3 in c:\\users\\jchpa\\anaconda3\\lib\\site-packages (from tensorflow-intel==2.15.0->tensorflow) (4.23.4)\n",
      "Requirement already satisfied: setuptools in c:\\users\\jchpa\\anaconda3\\lib\\site-packages (from tensorflow-intel==2.15.0->tensorflow) (68.0.0)\n",
      "Requirement already satisfied: six>=1.12.0 in c:\\users\\jchpa\\anaconda3\\lib\\site-packages (from tensorflow-intel==2.15.0->tensorflow) (1.16.0)\n",
      "Requirement already satisfied: termcolor>=1.1.0 in c:\\users\\jchpa\\anaconda3\\lib\\site-packages (from tensorflow-intel==2.15.0->tensorflow) (2.3.0)\n",
      "Requirement already satisfied: typing-extensions>=3.6.6 in c:\\users\\jchpa\\anaconda3\\lib\\site-packages (from tensorflow-intel==2.15.0->tensorflow) (4.7.1)\n",
      "Requirement already satisfied: wrapt<1.15,>=1.11.0 in c:\\users\\jchpa\\anaconda3\\lib\\site-packages (from tensorflow-intel==2.15.0->tensorflow) (1.14.1)\n",
      "Requirement already satisfied: tensorflow-io-gcs-filesystem>=0.23.1 in c:\\users\\jchpa\\anaconda3\\lib\\site-packages (from tensorflow-intel==2.15.0->tensorflow) (0.31.0)\n",
      "Requirement already satisfied: grpcio<2.0,>=1.24.3 in c:\\users\\jchpa\\anaconda3\\lib\\site-packages (from tensorflow-intel==2.15.0->tensorflow) (1.59.3)\n",
      "Requirement already satisfied: tensorboard<2.16,>=2.15 in c:\\users\\jchpa\\anaconda3\\lib\\site-packages (from tensorflow-intel==2.15.0->tensorflow) (2.15.1)\n",
      "Requirement already satisfied: tensorflow-estimator<2.16,>=2.15.0 in c:\\users\\jchpa\\anaconda3\\lib\\site-packages (from tensorflow-intel==2.15.0->tensorflow) (2.15.0)\n",
      "Requirement already satisfied: keras<2.16,>=2.15.0 in c:\\users\\jchpa\\anaconda3\\lib\\site-packages (from tensorflow-intel==2.15.0->tensorflow) (2.15.0)\n",
      "Requirement already satisfied: wheel<1.0,>=0.23.0 in c:\\users\\jchpa\\anaconda3\\lib\\site-packages (from astunparse>=1.6.0->tensorflow-intel==2.15.0->tensorflow) (0.38.4)\n",
      "Requirement already satisfied: google-auth<3,>=1.6.3 in c:\\users\\jchpa\\anaconda3\\lib\\site-packages (from tensorboard<2.16,>=2.15->tensorflow-intel==2.15.0->tensorflow) (2.23.4)\n",
      "Requirement already satisfied: google-auth-oauthlib<2,>=0.5 in c:\\users\\jchpa\\anaconda3\\lib\\site-packages (from tensorboard<2.16,>=2.15->tensorflow-intel==2.15.0->tensorflow) (1.1.0)\n",
      "Requirement already satisfied: markdown>=2.6.8 in c:\\users\\jchpa\\anaconda3\\lib\\site-packages (from tensorboard<2.16,>=2.15->tensorflow-intel==2.15.0->tensorflow) (3.4.1)\n",
      "Requirement already satisfied: requests<3,>=2.21.0 in c:\\users\\jchpa\\anaconda3\\lib\\site-packages (from tensorboard<2.16,>=2.15->tensorflow-intel==2.15.0->tensorflow) (2.31.0)\n",
      "Requirement already satisfied: tensorboard-data-server<0.8.0,>=0.7.0 in c:\\users\\jchpa\\anaconda3\\lib\\site-packages (from tensorboard<2.16,>=2.15->tensorflow-intel==2.15.0->tensorflow) (0.7.2)\n",
      "Requirement already satisfied: werkzeug>=1.0.1 in c:\\users\\jchpa\\anaconda3\\lib\\site-packages (from tensorboard<2.16,>=2.15->tensorflow-intel==2.15.0->tensorflow) (2.2.3)\n",
      "Requirement already satisfied: cachetools<6.0,>=2.0.0 in c:\\users\\jchpa\\anaconda3\\lib\\site-packages (from google-auth<3,>=1.6.3->tensorboard<2.16,>=2.15->tensorflow-intel==2.15.0->tensorflow) (5.3.2)\n",
      "Requirement already satisfied: pyasn1-modules>=0.2.1 in c:\\users\\jchpa\\anaconda3\\lib\\site-packages (from google-auth<3,>=1.6.3->tensorboard<2.16,>=2.15->tensorflow-intel==2.15.0->tensorflow) (0.2.8)\n",
      "Requirement already satisfied: rsa<5,>=3.1.4 in c:\\users\\jchpa\\anaconda3\\lib\\site-packages (from google-auth<3,>=1.6.3->tensorboard<2.16,>=2.15->tensorflow-intel==2.15.0->tensorflow) (4.9)\n",
      "Requirement already satisfied: requests-oauthlib>=0.7.0 in c:\\users\\jchpa\\anaconda3\\lib\\site-packages (from google-auth-oauthlib<2,>=0.5->tensorboard<2.16,>=2.15->tensorflow-intel==2.15.0->tensorflow) (1.3.1)\n",
      "Requirement already satisfied: charset-normalizer<4,>=2 in c:\\users\\jchpa\\anaconda3\\lib\\site-packages (from requests<3,>=2.21.0->tensorboard<2.16,>=2.15->tensorflow-intel==2.15.0->tensorflow) (2.0.4)\n",
      "Requirement already satisfied: idna<4,>=2.5 in c:\\users\\jchpa\\anaconda3\\lib\\site-packages (from requests<3,>=2.21.0->tensorboard<2.16,>=2.15->tensorflow-intel==2.15.0->tensorflow) (3.4)\n",
      "Requirement already satisfied: urllib3<3,>=1.21.1 in c:\\users\\jchpa\\anaconda3\\lib\\site-packages (from requests<3,>=2.21.0->tensorboard<2.16,>=2.15->tensorflow-intel==2.15.0->tensorflow) (1.26.16)\n",
      "Requirement already satisfied: certifi>=2017.4.17 in c:\\users\\jchpa\\anaconda3\\lib\\site-packages (from requests<3,>=2.21.0->tensorboard<2.16,>=2.15->tensorflow-intel==2.15.0->tensorflow) (2023.7.22)\n",
      "Requirement already satisfied: MarkupSafe>=2.1.1 in c:\\users\\jchpa\\anaconda3\\lib\\site-packages (from werkzeug>=1.0.1->tensorboard<2.16,>=2.15->tensorflow-intel==2.15.0->tensorflow) (2.1.1)\n",
      "Requirement already satisfied: pyasn1<0.5.0,>=0.4.6 in c:\\users\\jchpa\\anaconda3\\lib\\site-packages (from pyasn1-modules>=0.2.1->google-auth<3,>=1.6.3->tensorboard<2.16,>=2.15->tensorflow-intel==2.15.0->tensorflow) (0.4.8)\n",
      "Requirement already satisfied: oauthlib>=3.0.0 in c:\\users\\jchpa\\anaconda3\\lib\\site-packages (from requests-oauthlib>=0.7.0->google-auth-oauthlib<2,>=0.5->tensorboard<2.16,>=2.15->tensorflow-intel==2.15.0->tensorflow) (3.2.2)\n",
      "Note: you may need to restart the kernel to use updated packages.\n"
     ]
    }
   ],
   "source": [
    "pip install tensorflow\n"
   ]
  },
  {
   "cell_type": "code",
   "execution_count": 5,
   "id": "216994a6",
   "metadata": {},
   "outputs": [],
   "source": [
    "import cv2 as cv\n",
    "import numpy as np\n",
    "import matplotlib.pyplot as plt\n",
    "import tensorflow as tf"
   ]
  },
  {
   "cell_type": "code",
   "execution_count": 8,
   "id": "b0d9816e",
   "metadata": {},
   "outputs": [
    {
     "name": "stdout",
     "output_type": "stream",
     "text": [
      "Downloading data from https://storage.googleapis.com/tensorflow/tf-keras-datasets/mnist.npz\n",
      "11490434/11490434 [==============================] - 2s 0us/step\n"
     ]
    }
   ],
   "source": [
    "mnist = tf.keras.datasets.mnist\n",
    "(x_train, y_train), (x_test,y_test) = mnist.load_data()"
   ]
  },
  {
   "cell_type": "code",
   "execution_count": 9,
   "id": "b73bdf55",
   "metadata": {},
   "outputs": [],
   "source": [
    "x_train = tf.keras.utils.normalize(x_train, axis=1)\n",
    "x_test = tf.keras.utils.normalize(x_test, axis=1)"
   ]
  },
  {
   "cell_type": "code",
   "execution_count": 12,
   "id": "d30acd64",
   "metadata": {},
   "outputs": [],
   "source": [
    "model = tf.keras.models.Sequential()\n",
    "model.add(tf.keras.layers.Flatten(input_shape=(28,28)))\n",
    "model.add(tf.keras.layers.Dense(units=128, activation=tf.nn.relu))\n",
    "model.add(tf.keras.layers.Dense(units=128, activation=tf.nn.relu))\n",
    "model.add(tf.keras.layers.Dense(units = 10, activation = tf.nn.softmax))"
   ]
  },
  {
   "cell_type": "code",
   "execution_count": 14,
   "id": "1f3f346d",
   "metadata": {},
   "outputs": [
    {
     "name": "stdout",
     "output_type": "stream",
     "text": [
      "WARNING:tensorflow:From C:\\Users\\jchpa\\anaconda3\\Lib\\site-packages\\keras\\src\\optimizers\\__init__.py:309: The name tf.train.Optimizer is deprecated. Please use tf.compat.v1.train.Optimizer instead.\n",
      "\n",
      "Epoch 1/3\n",
      "WARNING:tensorflow:From C:\\Users\\jchpa\\anaconda3\\Lib\\site-packages\\keras\\src\\utils\\tf_utils.py:492: The name tf.ragged.RaggedTensorValue is deprecated. Please use tf.compat.v1.ragged.RaggedTensorValue instead.\n",
      "\n",
      "WARNING:tensorflow:From C:\\Users\\jchpa\\anaconda3\\Lib\\site-packages\\keras\\src\\engine\\base_layer_utils.py:384: The name tf.executing_eagerly_outside_functions is deprecated. Please use tf.compat.v1.executing_eagerly_outside_functions instead.\n",
      "\n",
      "1875/1875 [==============================] - 6s 3ms/step - loss: 0.2579 - accuracy: 0.9243\n",
      "Epoch 2/3\n",
      "1875/1875 [==============================] - 5s 3ms/step - loss: 0.1036 - accuracy: 0.9679\n",
      "Epoch 3/3\n",
      "1875/1875 [==============================] - 5s 3ms/step - loss: 0.0723 - accuracy: 0.9771\n"
     ]
    },
    {
     "data": {
      "text/plain": [
       "<keras.src.callbacks.History at 0x294611f7790>"
      ]
     },
     "execution_count": 14,
     "metadata": {},
     "output_type": "execute_result"
    }
   ],
   "source": [
    "model.compile(optimizer='adam',loss='sparse_categorical_crossentropy', metrics=['accuracy'])\n",
    "model.fit(x_train, y_train, epochs=3)"
   ]
  },
  {
   "cell_type": "code",
   "execution_count": 16,
   "id": "1591a17f",
   "metadata": {},
   "outputs": [
    {
     "name": "stdout",
     "output_type": "stream",
     "text": [
      "313/313 [==============================] - 1s 2ms/step - loss: 0.1031 - accuracy: 0.9705\n"
     ]
    }
   ],
   "source": [
    "accuracy, loss = model.evaluate(x_test, y_test)"
   ]
  },
  {
   "cell_type": "code",
   "execution_count": 17,
   "id": "f047172b",
   "metadata": {},
   "outputs": [
    {
     "name": "stdout",
     "output_type": "stream",
     "text": [
      "INFO:tensorflow:Assets written to: digits.model\\assets\n"
     ]
    },
    {
     "name": "stderr",
     "output_type": "stream",
     "text": [
      "INFO:tensorflow:Assets written to: digits.model\\assets\n"
     ]
    }
   ],
   "source": [
    "model.save('digits.model')"
   ]
  },
  {
   "cell_type": "code",
   "execution_count": 19,
   "id": "52418241",
   "metadata": {},
   "outputs": [
    {
     "data": {
      "image/png": "[encoded data removed]",
      "text/plain": [
       "<Figure size 640x480 with 1 Axes>"
      ]
     },
     "metadata": {},
     "output_type": "display_data"
    },
    {
     "data": {
      "image/png": "[encoded data removed]",
      "text/plain": [
       "<Figure size 640x480 with 1 Axes>"
      ]
     },
     "metadata": {},
     "output_type": "display_data"
    },
    {
     "data": {
      "image/png": "[encoded data removed]",
      "text/plain": [
       "<Figure size 640x480 with 1 Axes>"
      ]
     },
     "metadata": {},
     "output_type": "display_data"
    },
    {
     "data": {
      "image/png": "[encoded data removed]",
      "text/plain": [
       "<Figure size 640x480 with 1 Axes>"
      ]
     },
     "metadata": {},
     "output_type": "display_data"
    }
   ],
   "source": [
    "\n",
    "for x in range (1,5):\n",
    "    img = cv.imread(f'{x}.png')[:,:,0]\n",
    "    img = np.invert(np.array([img]))\n",
    "    plt.imshow(img[0],cmap=plt.cm.binary)\n",
    "    plt.show()"
   ]
  },
  {
   "cell_type": "code",
   "execution_count": 21,
   "id": "71adcf04",
   "metadata": {},
   "outputs": [
    {
     "name": "stdout",
     "output_type": "stream",
     "text": [
      "1/1 [==============================] - 0s 25ms/step\n"
     ]
    },
    {
     "data": {
      "image/png": "[encoded data removed]",
      "text/plain": [
       "<Figure size 640x480 with 1 Axes>"
      ]
     },
     "metadata": {},
     "output_type": "display_data"
    },
    {
     "name": "stdout",
     "output_type": "stream",
     "text": [
      "Digit probably is: 8\n",
      "1/1 [==============================] - 0s 28ms/step\n"
     ]
    },
    {
     "data": {
      "image/png": "[encoded data removed]",
      "text/plain": [
       "<Figure size 640x480 with 1 Axes>"
      ]
     },
     "metadata": {},
     "output_type": "display_data"
    },
    {
     "name": "stdout",
     "output_type": "stream",
     "text": [
      "Digit probably is: 5\n",
      "1/1 [==============================] - 0s 26ms/step\n"
     ]
    },
    {
     "data": {
      "image/png": "[encoded data removed]",
      "text/plain": [
       "<Figure size 640x480 with 1 Axes>"
      ]
     },
     "metadata": {},
     "output_type": "display_data"
    },
    {
     "name": "stdout",
     "output_type": "stream",
     "text": [
      "Digit probably is: 3\n",
      "1/1 [==============================] - 0s 27ms/step\n"
     ]
    },
    {
     "data": {
      "image/png": "[encoded data removed]",
      "text/plain": [
       "<Figure size 640x480 with 1 Axes>"
      ]
     },
     "metadata": {},
     "output_type": "display_data"
    },
    {
     "name": "stdout",
     "output_type": "stream",
     "text": [
      "Digit probably is: 9\n"
     ]
    }
   ],
   "source": [
    "for x in range (1,5):\n",
    "    img = cv.imread(f'{x}.png')[:,:,0]\n",
    "    img = np.invert(np.array([img]))\n",
    "    prediction = model.predict(img)\n",
    "    plt.imshow(img[0],cmap=plt.cm.binary)\n",
    "    plt.show()\n",
    "    print(f'Digit probably is: {np.argmax(prediction)}')"
   ]
  }
 ],
 "metadata": {
  "kernelspec": {
   "display_name": "Python 3 (ipykernel)",
   "language": "python",
   "name": "python3"
  },
  "language_info": {
   "codemirror_mode": {
    "name": "ipython",
    "version": 3
   },
   "file_extension": ".py",
   "mimetype": "text/x-python",
   "name": "python",
   "nbconvert_exporter": "python",
   "pygments_lexer": "ipython3",
   "version": "3.11.5"
  }
 },
 "nbformat": 4,
 "nbformat_minor": 5
}
